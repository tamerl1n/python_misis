{
 "cells": [
  {
   "cell_type": "markdown",
   "id": "1d881638",
   "metadata": {},
   "source": [
    "### Задание 1"
   ]
  },
  {
   "cell_type": "code",
   "execution_count": 171,
   "id": "3d09280a",
   "metadata": {},
   "outputs": [],
   "source": [
    "class Stack:\n",
    "    \n",
    "    def __init__(self):\n",
    "        self.stack = []\n",
    "        \n",
    "    def push(self, element):\n",
    "        self.stack.append(element)\n",
    "        \n",
    "    def pop(self):\n",
    "        if self.stack:\n",
    "            return self.stack.pop()\n",
    "        else:\n",
    "            raise Exception('Stack is empty')\n",
    "\n",
    "    def __str__(self):\n",
    "        return \"; \".join(self.stack)\n",
    "\n",
    "            \n",
    "class TaskManager:\n",
    "    \n",
    "    def __init__(self):\n",
    "        self.tasks = {}\n",
    "    \n",
    "    def new_task(self, action, priority):\n",
    "        if priority not in self.tasks:\n",
    "            self.tasks[priority] = Stack()\n",
    "        self.tasks[priority].push(action)\n",
    "        \n",
    "    def __str__(self):\n",
    "        ans = [f\"{k} {v}\" for k, v in sorted(self.tasks.items())]\n",
    "        return \"\\n\".join(ans)"
   ]
  },
  {
   "cell_type": "code",
   "execution_count": 172,
   "id": "d5fdfa62",
   "metadata": {},
   "outputs": [
    {
     "name": "stdout",
     "output_type": "stream",
     "text": [
      "1 отдохнуть\n",
      "2 поесть; сдать дз\n",
      "4 сделать уборку; помыть посуду\n"
     ]
    }
   ],
   "source": [
    "manager = TaskManager()\n",
    "manager.new_task(\"сделать уборку\", 4)\n",
    "manager.new_task(\"помыть посуду\", 4)\n",
    "manager.new_task(\"отдохнуть\", 1)\n",
    "manager.new_task(\"поесть\", 2)\n",
    "manager.new_task(\"сдать дз\", 2)\n",
    "print(manager)"
   ]
  },
  {
   "cell_type": "markdown",
   "id": "449352d4",
   "metadata": {},
   "source": [
    "### Задание 2"
   ]
  },
  {
   "cell_type": "code",
   "execution_count": 2,
   "id": "cab4fdc5",
   "metadata": {},
   "outputs": [],
   "source": [
    "from collections import OrderedDict"
   ]
  },
  {
   "cell_type": "code",
   "execution_count": 4,
   "id": "5216b4bb",
   "metadata": {},
   "outputs": [],
   "source": [
    "class LRUCache:\n",
    "    def __init__(self, capacity):\n",
    "        self.capacity = capacity\n",
    "        self.dict = OrderedDict()\n",
    "        \n",
    "    def get(self, key):\n",
    "        self.dict.move_to_end(key)\n",
    "        return self.dict[key]\n",
    "    \n",
    "    @property\n",
    "    def cache(self):\n",
    "        return next(iter(self.dict))\n",
    "    \n",
    "    @cache.setter\n",
    "    def cache(self, new_elem):\n",
    "        key, value = new_elem\n",
    "        if len(self.dict) == self.capacity:\n",
    "            self.dict.popitem(last=False)\n",
    "        self.dict[key] = value\n",
    "    \n",
    "    def print_cache(self):\n",
    "        print(\"LRU cache:\")\n",
    "        for k, v in self.dict.items():\n",
    "            print(f\"{k} : {v}\")"
   ]
  },
  {
   "cell_type": "code",
   "execution_count": 5,
   "id": "17ab2da3",
   "metadata": {},
   "outputs": [],
   "source": [
    "cache = LRUCache(3)\n",
    "cache.cache = (\"key1\", \"value1\")\n",
    "cache.cache = (\"key2\", \"value2\")\n",
    "cache.cache = (\"key3\", \"value3\")"
   ]
  },
  {
   "cell_type": "code",
   "execution_count": 6,
   "id": "f105266f",
   "metadata": {},
   "outputs": [
    {
     "name": "stdout",
     "output_type": "stream",
     "text": [
      "LRU cache:\n",
      "key1 : value1\n",
      "key2 : value2\n",
      "key3 : value3\n"
     ]
    }
   ],
   "source": [
    "cache.print_cache()"
   ]
  },
  {
   "cell_type": "code",
   "execution_count": 7,
   "id": "c76ab9ff",
   "metadata": {},
   "outputs": [
    {
     "name": "stdout",
     "output_type": "stream",
     "text": [
      "value2\n"
     ]
    }
   ],
   "source": [
    "print(cache.get(\"key2\"))"
   ]
  },
  {
   "cell_type": "code",
   "execution_count": 8,
   "id": "6a41432d",
   "metadata": {},
   "outputs": [],
   "source": [
    "cache.cache = (\"key4\", \"value4\")"
   ]
  },
  {
   "cell_type": "code",
   "execution_count": 9,
   "id": "7951efaa",
   "metadata": {},
   "outputs": [
    {
     "name": "stdout",
     "output_type": "stream",
     "text": [
      "LRU cache:\n",
      "key3 : value3\n",
      "key2 : value2\n",
      "key4 : value4\n"
     ]
    }
   ],
   "source": [
    "cache.print_cache()"
   ]
  },
  {
   "cell_type": "markdown",
   "id": "9e7145c5",
   "metadata": {},
   "source": [
    "### Задание 3"
   ]
  },
  {
   "cell_type": "code",
   "execution_count": 17,
   "id": "d62bd001",
   "metadata": {},
   "outputs": [],
   "source": [
    "def decor(func):\n",
    "    \n",
    "    def wrapper(*args, **kwargs):\n",
    "        print('csdc')\n",
    "        a = func(*args, **kwargs)\n",
    "        print('cedw')\n",
    "        return a\n",
    "    return wrapper"
   ]
  },
  {
   "cell_type": "code",
   "execution_count": 18,
   "id": "ef1b9767",
   "metadata": {},
   "outputs": [],
   "source": [
    "@decor\n",
    "def sum_digs(a, b):\n",
    "    return a + b"
   ]
  },
  {
   "cell_type": "code",
   "execution_count": 78,
   "id": "d9fa6a82",
   "metadata": {},
   "outputs": [],
   "source": [
    "class LRUCache:\n",
    "    def __init__(self, capacity):\n",
    "        self.capacity = capacity\n",
    "        self.dict = OrderedDict()\n",
    "        \n",
    "    def __call__(self, func):\n",
    "        \n",
    "        def wrapper(*args, **kwargs):\n",
    "            args_list = list(args)\n",
    "            #Сортируем, чтобы не зависеть от порядка ввода именованных аргументов\n",
    "            kwargs_list = sorted(kwargs.items())\n",
    "            args_list.extend(kwargs_list)\n",
    "            all_args = tuple(args_list)\n",
    "            if all_args in self.dict:\n",
    "                return self.dict[all_args]\n",
    "            value = func(*args, **kwargs)\n",
    "            self._update_dict(all_args, value)\n",
    "            return value\n",
    "        \n",
    "        return wrapper\n",
    "    \n",
    "    def _update_dict(self, all_args, value):\n",
    "        if len(self.dict) == self.capacity:\n",
    "            self.dict.popitem(last=False)\n",
    "        self.dict[all_args] = value"
   ]
  },
  {
   "cell_type": "code",
   "execution_count": 79,
   "id": "0821acad",
   "metadata": {},
   "outputs": [],
   "source": [
    "@LRUCache(10000)\n",
    "def fibonaci(n):\n",
    "    if n <= 1:\n",
    "        return n\n",
    "    else:\n",
    "        return(fibonaci(n-1) + fibonaci(n-2))"
   ]
  },
  {
   "cell_type": "code",
   "execution_count": 80,
   "id": "1fcff022",
   "metadata": {},
   "outputs": [
    {
     "data": {
      "text/plain": [
       "43466557686937456435688527675040625802564660517371780402481729089536555417949051890403879840079255169295922593080322634775209689623239873322471161642996440906533187938298969649928516003704476137795166849228875"
      ]
     },
     "execution_count": 80,
     "metadata": {},
     "output_type": "execute_result"
    }
   ],
   "source": [
    "fibonaci(1000)"
   ]
  },
  {
   "cell_type": "markdown",
   "id": "1f61ec90",
   "metadata": {},
   "source": [
    "### Задание 4"
   ]
  },
  {
   "cell_type": "code",
   "execution_count": 93,
   "id": "58d61abe",
   "metadata": {},
   "outputs": [],
   "source": [
    "from dataclasses import dataclass\n",
    "from typing import Set"
   ]
  },
  {
   "cell_type": "code",
   "execution_count": 103,
   "id": "376f8ce5",
   "metadata": {},
   "outputs": [
    {
     "data": {
      "text/plain": [
       "False"
      ]
     },
     "execution_count": 103,
     "metadata": {},
     "output_type": "execute_result"
    }
   ],
   "source": [
    "{1, 2, 4}.issubset({3, 2, 4})"
   ]
  },
  {
   "cell_type": "code",
   "execution_count": 168,
   "id": "5fc27cb0",
   "metadata": {},
   "outputs": [],
   "source": [
    "WINNING_SEQUENCES = ({0, 1, 2}, {3, 4, 5}, {6, 7, 8}, {0, 3, 6},\n",
    "                   {1, 4, 7}, {2, 5, 8}, {0, 4, 8}, {2, 4, 6})\n",
    "\n",
    "class Cell:\n",
    "    def __init__(self, number):\n",
    "        self.number = number\n",
    "        self.value = None\n",
    "        self.player = None\n",
    "    \n",
    "    def is_empty(self):\n",
    "        return self.value is None\n",
    "    \n",
    "    def fill(self, value, player):\n",
    "        assert value in ['X', 'O'], \"Value should be 'X' or 'O'\"\n",
    "        assert self.is_empty(), \"This cell is not empty\"\n",
    "        self.value = value\n",
    "        self.player = player\n",
    "\n",
    "    \n",
    "\n",
    "class Player:\n",
    "    def __init__(self, name):\n",
    "        self.name = name\n",
    "        self.cross_positions = set()\n",
    "        self.zero_positions = set()\n",
    "    \n",
    "    def add_turn(self, value, number):\n",
    "        assert value in ['X', 'O'], \"Value should be 'X' or 'O'\"\n",
    "        if value == 'X':\n",
    "            self.cross_positions.add(number)\n",
    "        else:\n",
    "            self.zero_positions.add(number)\n",
    "        \n",
    "class Game:\n",
    "    def __init__(self, first_player, second_player, first_player_starts = True):\n",
    "        self.board = [Cell(i) for i in range(9)]\n",
    "        self.first_player = first_player\n",
    "        self.second_player = second_player\n",
    "        self.is_first_player_turn = first_player_starts\n",
    "        self.game_over = False\n",
    "        self.winner = None\n",
    "    \n",
    "    def _make_move(self, number, value, player):\n",
    "        self.board[number].fill(value, player)\n",
    "        player.add_turn(value, number)\n",
    "        \n",
    "    def _next_turn(self):\n",
    "        self.is_first_player_turn = not self.is_first_player_turn\n",
    "    \n",
    "    def first_player_move(self, value, number):\n",
    "        self._is_game_over()\n",
    "        if self.is_first_player_turn:\n",
    "            self._make_move(number, value, self.first_player)\n",
    "            self._check_result(self.first_player)\n",
    "            self._next_turn()\n",
    "        else:\n",
    "            raise Exception(f\"'It's the second player's ({self.second_player.name}) turn\")\n",
    "    \n",
    "    def second_player_move(self, value, number):\n",
    "        self._is_game_over()\n",
    "        if not self.is_first_player_turn:\n",
    "            self._make_move(number, value, self.second_player)\n",
    "            self._check_result(self.first_player)\n",
    "            self._next_turn()\n",
    "        else:\n",
    "            raise Exception(f\"It's the first player's ({self.first_player.name}) turn\")\n",
    "    \n",
    "    def _is_player_win(self, player):\n",
    "        cross = player.cross_positions\n",
    "        zero = player.zero_positions\n",
    "        for win_sequence in WINNING_SEQUENCES:\n",
    "            if win_sequence.issubset(zero) or win_sequence.issubset(cross):\n",
    "                return True\n",
    "        return False\n",
    "    \n",
    "    def _check_draw(self):\n",
    "        for cell in self.board:\n",
    "            if cell.is_empty():\n",
    "                return False\n",
    "        return True\n",
    "    \n",
    "    def _check_result(self, player):\n",
    "        if self._is_player_win(player):\n",
    "            print(f\"{player.name} is win\")\n",
    "            self.winner = player\n",
    "            self.game_over = True\n",
    "        if self._check_draw():\n",
    "            print(\"It's a draw\")\n",
    "            self.game_over = True\n",
    "    \n",
    "    def _is_game_over(self):\n",
    "        if self.game_over:\n",
    "            if self.winner:\n",
    "                raise Exception(f\"Game over. {self.winner.name} won\")\n",
    "            else:\n",
    "                raise Exception(f\"Game over. It's a draw\")"
   ]
  },
  {
   "cell_type": "code",
   "execution_count": 169,
   "id": "ca10e5ec",
   "metadata": {},
   "outputs": [],
   "source": [
    "Ivan = Player('Ivan')\n",
    "Vasya = Player('Vasya')\n",
    "game = Game(Ivan, Vasya)"
   ]
  },
  {
   "cell_type": "code",
   "execution_count": 170,
   "id": "347681f5",
   "metadata": {},
   "outputs": [
    {
     "name": "stdout",
     "output_type": "stream",
     "text": [
      "Ivan is win\n"
     ]
    },
    {
     "ename": "Exception",
     "evalue": "Game over. Ivan won",
     "output_type": "error",
     "traceback": [
      "\u001b[0;31m---------------------------------------------------------------------------\u001b[0m",
      "\u001b[0;31mException\u001b[0m                                 Traceback (most recent call last)",
      "Cell \u001b[0;32mIn[170], line 6\u001b[0m\n\u001b[1;32m      4\u001b[0m game\u001b[38;5;241m.\u001b[39msecond_player_move(\u001b[38;5;124m'\u001b[39m\u001b[38;5;124mO\u001b[39m\u001b[38;5;124m'\u001b[39m, \u001b[38;5;241m1\u001b[39m)\n\u001b[1;32m      5\u001b[0m game\u001b[38;5;241m.\u001b[39mfirst_player_move(\u001b[38;5;124m'\u001b[39m\u001b[38;5;124mX\u001b[39m\u001b[38;5;124m'\u001b[39m, \u001b[38;5;241m5\u001b[39m)\n\u001b[0;32m----> 6\u001b[0m \u001b[43mgame\u001b[49m\u001b[38;5;241;43m.\u001b[39;49m\u001b[43msecond_player_move\u001b[49m\u001b[43m(\u001b[49m\u001b[38;5;124;43m'\u001b[39;49m\u001b[38;5;124;43mO\u001b[39;49m\u001b[38;5;124;43m'\u001b[39;49m\u001b[43m,\u001b[49m\u001b[43m \u001b[49m\u001b[38;5;241;43m6\u001b[39;49m\u001b[43m)\u001b[49m\n",
      "Cell \u001b[0;32mIn[168], line 60\u001b[0m, in \u001b[0;36mGame.second_player_move\u001b[0;34m(self, value, number)\u001b[0m\n\u001b[1;32m     59\u001b[0m \u001b[38;5;28;01mdef\u001b[39;00m \u001b[38;5;21msecond_player_move\u001b[39m(\u001b[38;5;28mself\u001b[39m, value, number):\n\u001b[0;32m---> 60\u001b[0m     \u001b[38;5;28;43mself\u001b[39;49m\u001b[38;5;241;43m.\u001b[39;49m\u001b[43m_is_game_over\u001b[49m\u001b[43m(\u001b[49m\u001b[43m)\u001b[49m\n\u001b[1;32m     61\u001b[0m     \u001b[38;5;28;01mif\u001b[39;00m \u001b[38;5;129;01mnot\u001b[39;00m \u001b[38;5;28mself\u001b[39m\u001b[38;5;241m.\u001b[39mis_first_player_turn:\n\u001b[1;32m     62\u001b[0m         \u001b[38;5;28mself\u001b[39m\u001b[38;5;241m.\u001b[39m_make_move(number, value, \u001b[38;5;28mself\u001b[39m\u001b[38;5;241m.\u001b[39msecond_player)\n",
      "Cell \u001b[0;32mIn[168], line 94\u001b[0m, in \u001b[0;36mGame._is_game_over\u001b[0;34m(self)\u001b[0m\n\u001b[1;32m     92\u001b[0m \u001b[38;5;28;01mif\u001b[39;00m \u001b[38;5;28mself\u001b[39m\u001b[38;5;241m.\u001b[39mgame_over:\n\u001b[1;32m     93\u001b[0m     \u001b[38;5;28;01mif\u001b[39;00m \u001b[38;5;28mself\u001b[39m\u001b[38;5;241m.\u001b[39mwinner:\n\u001b[0;32m---> 94\u001b[0m         \u001b[38;5;28;01mraise\u001b[39;00m \u001b[38;5;167;01mException\u001b[39;00m(\u001b[38;5;124mf\u001b[39m\u001b[38;5;124m\"\u001b[39m\u001b[38;5;124mGame over. \u001b[39m\u001b[38;5;132;01m{\u001b[39;00m\u001b[38;5;28mself\u001b[39m\u001b[38;5;241m.\u001b[39mwinner\u001b[38;5;241m.\u001b[39mname\u001b[38;5;132;01m}\u001b[39;00m\u001b[38;5;124m won\u001b[39m\u001b[38;5;124m\"\u001b[39m)\n\u001b[1;32m     95\u001b[0m     \u001b[38;5;28;01melse\u001b[39;00m:\n\u001b[1;32m     96\u001b[0m         \u001b[38;5;28;01mraise\u001b[39;00m \u001b[38;5;167;01mException\u001b[39;00m(\u001b[38;5;124mf\u001b[39m\u001b[38;5;124m\"\u001b[39m\u001b[38;5;124mGame over. It\u001b[39m\u001b[38;5;124m'\u001b[39m\u001b[38;5;124ms a draw\u001b[39m\u001b[38;5;124m\"\u001b[39m)\n",
      "\u001b[0;31mException\u001b[0m: Game over. Ivan won"
     ]
    }
   ],
   "source": [
    "game.first_player_move('X', 3)\n",
    "game.second_player_move('O', 0)\n",
    "game.first_player_move('X', 4)\n",
    "game.second_player_move('O', 1)\n",
    "game.first_player_move('X', 5)\n",
    "game.second_player_move('O', 6)"
   ]
  },
  {
   "cell_type": "code",
   "execution_count": null,
   "id": "5f7b3fee",
   "metadata": {},
   "outputs": [],
   "source": [
    "game.first_player_move('X', 3)\n",
    "game.second_player_move('O', 0)\n",
    "game.first_player_move('X', 4)\n",
    "game.second_player_move('O', 1)\n",
    "game.first_player_move('X', 5)\n",
    "game.second_player_move('O', 6)"
   ]
  }
 ],
 "metadata": {
  "kernelspec": {
   "display_name": "Python 3 (ipykernel)",
   "language": "python",
   "name": "python3"
  },
  "language_info": {
   "codemirror_mode": {
    "name": "ipython",
    "version": 3
   },
   "file_extension": ".py",
   "mimetype": "text/x-python",
   "name": "python",
   "nbconvert_exporter": "python",
   "pygments_lexer": "ipython3",
   "version": "3.10.13"
  }
 },
 "nbformat": 4,
 "nbformat_minor": 5
}
